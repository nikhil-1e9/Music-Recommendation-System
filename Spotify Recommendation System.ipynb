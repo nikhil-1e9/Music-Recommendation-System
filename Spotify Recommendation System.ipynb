{
 "cells": [
  {
   "cell_type": "markdown",
   "id": "4e9f8be6",
   "metadata": {},
   "source": [
    "# Music Recommendation System using Spotify API"
   ]
  },
  {
   "cell_type": "markdown",
   "id": "3f467cae",
   "metadata": {},
   "source": [
    "![](https://www.protocol.com/media-library/spotify-app-with-headphones-on.png?id=29171621&width=1000&height=750&quality=85&coordinates=0%2C0%2C0%2C0)"
   ]
  },
  {
   "cell_type": "markdown",
   "id": "4c78e93e",
   "metadata": {},
   "source": [
    "## Recommendation systems\n",
    "**Recommendation systems** are algorithms and techniques designed to provide personalized suggestions or recommendations to users. These systems analyze user data and item attributes to generate relevant and tailored recommendations. Recommendation systems are widely used in various applications such as e-commerce (product recommendations), streaming services (movie/music recommendations), news websites (article recommendations), and more to enhance user experiences and drive engagement. \n",
    "\n",
    "In this notebook, I will be demonstrating one such application of Recommendation systems by building a Music Recommendation System using the Spotify API. The music recommendation system will assist users in discovering new and relevant musical content based on their preferences and listening behaviour."
   ]
  },
  {
   "cell_type": "markdown",
   "id": "9057704d",
   "metadata": {},
   "source": [
    "### Table of Contents\n",
    "1. Introduction\n",
    "2. Spotify API"
   ]
  },
  {
   "cell_type": "markdown",
   "id": "6c01cec8",
   "metadata": {},
   "source": [
    "## Spotify API\n",
    "**Spotify API** (Application Programming Interface) is a set of web services and tools provided by Spotify that allows developers to interact with the Spotify platform and access various music-related data and functionalities. Developers can use the Spotify API to integrate Spotify's vast music catalog, user playlists, and user-related data into their own applications, websites, or services.\n",
    "\n",
    "I will be using the Spotify API for requesting and collecting real-time music data from Spotify. For accessing the API you first have to sign up for a developer account on Spotify. As I have already done this I am skipping this step. For more information you can check out the [Spotify API documentation](https://developer.spotify.com/documentation/web-api)."
   ]
  },
  {
   "cell_type": "code",
   "execution_count": null,
   "id": "3b3694ac",
   "metadata": {},
   "outputs": [],
   "source": []
  },
  {
   "cell_type": "markdown",
   "id": "f162c29f",
   "metadata": {},
   "source": [
    "To get started with building a Music Recommendation System, we first need to have an access token. The access token serves as a temporary authorization credential, allowing the code to make authenticated requests to the Spotify API on behalf of the application. The access token can be requested in the following way"
   ]
  },
  {
   "cell_type": "code",
   "execution_count": 2,
   "id": "76f93bbb",
   "metadata": {
    "scrolled": true
   },
   "outputs": [
    {
     "data": {
      "text/plain": [
       "'Y2U0NTM1ZjNlMmI1NDcyYzgxZGFkYzExMjA3ZTNkMTI6NTc5OWRjMTk1N2ExNDdmNDg1ZmUyOTQwYjI4Yzc0MTQ='"
      ]
     },
     "execution_count": 2,
     "metadata": {},
     "output_type": "execute_result"
    }
   ],
   "source": [
    "client_creds_enc.decode()"
   ]
  },
  {
   "cell_type": "code",
   "execution_count": 3,
   "id": "8bb66a0a",
   "metadata": {},
   "outputs": [
    {
     "data": {
      "text/plain": [
       "b'Y2U0NTM1ZjNlMmI1NDcyYzgxZGFkYzExMjA3ZTNkMTI6NTc5OWRjMTk1N2ExNDdmNDg1ZmUyOTQwYjI4Yzc0MTQ='"
      ]
     },
     "execution_count": 3,
     "metadata": {},
     "output_type": "execute_result"
    }
   ],
   "source": [
    "client_creds_enc"
   ]
  },
  {
   "cell_type": "code",
   "execution_count": 5,
   "id": "93c751b2",
   "metadata": {},
   "outputs": [],
   "source": [
    "# Importing required libraries\n",
    "import requests\n",
    "import base64\n",
    "import pandas as pd\n",
    "from IPython.display import Image"
   ]
  },
  {
   "cell_type": "code",
   "execution_count": 148,
   "id": "1a614b0d",
   "metadata": {},
   "outputs": [
    {
     "name": "stdout",
     "output_type": "stream",
     "text": [
      "Access token obtained successfully.\n"
     ]
    }
   ],
   "source": [
    "# Replace with your Client ID and Client Secret\n",
    "CLIENT_ID = 'ce4535f3e2b5472c81dadc11207e3d12'\n",
    "CLIENT_SECRET = '5799dc1957a147f485fe2940b28c7414'\n",
    "\n",
    "# Encode the client ID and client secret to base64\n",
    "client_creds = f\"{CLIENT_ID}:{CLIENT_SECRET}\"\n",
    "client_creds_enc = base64.b64encode(client_creds.encode())\n",
    "\n",
    "# Request the access token\n",
    "TOKEN_URL = \"https://accounts.spotify.com/api/token\"\n",
    "headers = {\n",
    "    'Authorization': f'Basic {client_creds_enc.decode()}'\n",
    "}\n",
    "data = {\n",
    "    'grant_type': 'client_credentials'\n",
    "}\n",
    "response = requests.post(TOKEN_URL, data=data, headers=headers)\n",
    "\n",
    "# Check if access token was obtained or not\n",
    "if response.status_code == 200:\n",
    "    access_token = response.json()['access_token']\n",
    "    print(\"Access token obtained successfully.\")\n",
    "else:\n",
    "    print(\"Error obtaining access token.\")\n",
    "    exit()"
   ]
  },
  {
   "cell_type": "markdown",
   "id": "c8f3d4c5",
   "metadata": {},
   "source": [
    "With the access token obtained, we can now make authorized requests to Spotify and retrieve music data, such as tracks, albums, artists, and user information, which is fundamental for our Music Recommendation System. Now to collect music data from Spotify we need to first install the [Spotipy](https://spotipy.readthedocs.io/en/2.22.1/) library, a Python library that provides access to Spotify’s web API"
   ]
  },
  {
   "cell_type": "code",
   "execution_count": 4,
   "id": "e9447a06",
   "metadata": {
    "scrolled": true
   },
   "outputs": [
    {
     "name": "stdout",
     "output_type": "stream",
     "text": [
      "Requirement already satisfied: spotipy in c:\\users\\relat\\anaconda3\\lib\\site-packages (2.23.0)\n",
      "Requirement already satisfied: redis>=3.5.3 in c:\\users\\relat\\anaconda3\\lib\\site-packages (from spotipy) (5.0.0)\n",
      "Requirement already satisfied: requests>=2.25.0 in c:\\users\\relat\\anaconda3\\lib\\site-packages (from spotipy) (2.29.0)\n",
      "Requirement already satisfied: six>=1.15.0 in c:\\users\\relat\\anaconda3\\lib\\site-packages (from spotipy) (1.16.0)\n",
      "Requirement already satisfied: urllib3>=1.26.0 in c:\\users\\relat\\anaconda3\\lib\\site-packages (from spotipy) (1.26.16)\n",
      "Requirement already satisfied: async-timeout>=4.0.2 in c:\\users\\relat\\anaconda3\\lib\\site-packages (from redis>=3.5.3->spotipy) (4.0.2)\n",
      "Requirement already satisfied: charset-normalizer<4,>=2 in c:\\users\\relat\\anaconda3\\lib\\site-packages (from requests>=2.25.0->spotipy) (2.0.4)\n",
      "Requirement already satisfied: idna<4,>=2.5 in c:\\users\\relat\\anaconda3\\lib\\site-packages (from requests>=2.25.0->spotipy) (2.10)\n",
      "Requirement already satisfied: certifi>=2017.4.17 in c:\\users\\relat\\anaconda3\\lib\\site-packages (from requests>=2.25.0->spotipy) (2023.5.7)\n"
     ]
    }
   ],
   "source": [
    "# Install the spotipy library\n",
    "# !pip install spotipy"
   ]
  },
  {
   "cell_type": "code",
   "execution_count": 6,
   "id": "cf34e7fb",
   "metadata": {},
   "outputs": [],
   "source": [
    "import spotipy\n",
    "from spotipy.oauth2 import SpotifyOAuth\n",
    "\n",
    "# Set up Spotipy with the access token\n",
    "sp = spotipy.Spotify(auth=access_token)"
   ]
  },
  {
   "cell_type": "code",
   "execution_count": 153,
   "id": "39ee12b3",
   "metadata": {},
   "outputs": [],
   "source": [
    "# Get info about an artist\n",
    "def get_artist_info(artist_id):\n",
    "    artist = sp.artist(artist_id=artist_id)\n",
    "\n",
    "    num_followers = artist['followers']['total']\n",
    "    genres = artist['genres']\n",
    "    artist_id = artist['id']\n",
    "    name = artist['name']\n",
    "    popularity_score = artist['popularity']\n",
    "    img_url = artist['images'][2]['url']\n",
    "\n",
    "    print(name)\n",
    "    display(Image(url=img_url))\n",
    "    print(\"Total followers:\", num_followers)\n",
    "    print(\"Popularity:\", popularity_score)\n",
    "    print(\"Genres:\", *genres)"
   ]
  },
  {
   "cell_type": "code",
   "execution_count": 154,
   "id": "8dd80508",
   "metadata": {
    "scrolled": true
   },
   "outputs": [
    {
     "name": "stdout",
     "output_type": "stream",
     "text": [
      "Taylor Swift\n"
     ]
    },
    {
     "data": {
      "text/html": [
       "<img src=\"https://i.scdn.co/image/ab6761610000f1786a224073987b930f99adc706\"/>"
      ],
      "text/plain": [
       "<IPython.core.display.Image object>"
      ]
     },
     "metadata": {},
     "output_type": "display_data"
    },
    {
     "name": "stdout",
     "output_type": "stream",
     "text": [
      "Total followers: 85379848\n",
      "Popularity: 100\n",
      "Genres: pop\n"
     ]
    }
   ],
   "source": [
    "get_artist_info(artist_id=artist_id)"
   ]
  },
  {
   "cell_type": "code",
   "execution_count": 168,
   "id": "4d891418",
   "metadata": {},
   "outputs": [],
   "source": [
    "# Get info on artist's albums\n",
    "def get_artist_albums(artist_id):\n",
    "    artist_name = sp.artist(artist_id=artist_id)['name']\n",
    "    artist_album = sp.artist_albums(artist_id=artist_id, album_type=['album', 'single'], limit=50)\n",
    "    total_albums = artist_album['total']\n",
    "\n",
    "    albums = []\n",
    "    for i in range(total_albums):\n",
    "        album = artist_album['items'][i]\n",
    "        album_id = album['id']\n",
    "        album_name = album['name']\n",
    "        release_date = album['release_date']\n",
    "        total_tracks = album['total_tracks']\n",
    "\n",
    "        album_info = {'album_id': album_id,\n",
    "                      'name': album_name,\n",
    "                      'released': release_date,\n",
    "                      'total_tracks': total_tracks}\n",
    "        albums.append(album_info)\n",
    "    \n",
    "    print(f\"Albums from {artist_name}\")\n",
    "    albums_df = pd.DataFrame(albums)\n",
    "    return albums_df"
   ]
  },
  {
   "cell_type": "code",
   "execution_count": 169,
   "id": "29fbd1f5",
   "metadata": {},
   "outputs": [
    {
     "name": "stdout",
     "output_type": "stream",
     "text": [
      "Albums from Taylor Swift\n"
     ]
    },
    {
     "data": {
      "text/html": [
       "<div>\n",
       "<style scoped>\n",
       "    .dataframe tbody tr th:only-of-type {\n",
       "        vertical-align: middle;\n",
       "    }\n",
       "\n",
       "    .dataframe tbody tr th {\n",
       "        vertical-align: top;\n",
       "    }\n",
       "\n",
       "    .dataframe thead th {\n",
       "        text-align: right;\n",
       "    }\n",
       "</style>\n",
       "<table border=\"1\" class=\"dataframe\">\n",
       "  <thead>\n",
       "    <tr style=\"text-align: right;\">\n",
       "      <th></th>\n",
       "      <th>album_id</th>\n",
       "      <th>name</th>\n",
       "      <th>released</th>\n",
       "      <th>total_tracks</th>\n",
       "    </tr>\n",
       "  </thead>\n",
       "  <tbody>\n",
       "    <tr>\n",
       "      <th>0</th>\n",
       "      <td>5AEDGbliTTfjOB8TSm1sxt</td>\n",
       "      <td>Speak Now (Taylor's Version)</td>\n",
       "      <td>2023-07-07</td>\n",
       "      <td>22</td>\n",
       "    </tr>\n",
       "    <tr>\n",
       "      <th>1</th>\n",
       "      <td>1fnJ7k0bllNfL1kVdNVW1A</td>\n",
       "      <td>Midnights (The Til Dawn Edition)</td>\n",
       "      <td>2023-05-26</td>\n",
       "      <td>23</td>\n",
       "    </tr>\n",
       "    <tr>\n",
       "      <th>2</th>\n",
       "      <td>3lS1y25WAhcqJDATJK70Mq</td>\n",
       "      <td>Midnights (3am Edition)</td>\n",
       "      <td>2022-10-22</td>\n",
       "      <td>20</td>\n",
       "    </tr>\n",
       "    <tr>\n",
       "      <th>3</th>\n",
       "      <td>151w1FgRZfnKZA9FEcg9Z3</td>\n",
       "      <td>Midnights</td>\n",
       "      <td>2022-10-21</td>\n",
       "      <td>13</td>\n",
       "    </tr>\n",
       "    <tr>\n",
       "      <th>4</th>\n",
       "      <td>6kZ42qRrzov54LcAk4onW9</td>\n",
       "      <td>Red (Taylor's Version)</td>\n",
       "      <td>2021-11-12</td>\n",
       "      <td>30</td>\n",
       "    </tr>\n",
       "    <tr>\n",
       "      <th>5</th>\n",
       "      <td>4hDok0OAJd57SGIT8xuWJH</td>\n",
       "      <td>Fearless (Taylor's Version)</td>\n",
       "      <td>2021-04-09</td>\n",
       "      <td>26</td>\n",
       "    </tr>\n",
       "    <tr>\n",
       "      <th>6</th>\n",
       "      <td>6AORtDjduMM3bupSWzbTSG</td>\n",
       "      <td>evermore (deluxe version)</td>\n",
       "      <td>2021-01-07</td>\n",
       "      <td>17</td>\n",
       "    </tr>\n",
       "    <tr>\n",
       "      <th>7</th>\n",
       "      <td>2Xoteh7uEpea4TohMxjtaq</td>\n",
       "      <td>evermore</td>\n",
       "      <td>2020-12-11</td>\n",
       "      <td>15</td>\n",
       "    </tr>\n",
       "    <tr>\n",
       "      <th>8</th>\n",
       "      <td>0PZ7lAru5FDFHuirTkWe9Z</td>\n",
       "      <td>folklore: the long pond studio sessions (from ...</td>\n",
       "      <td>2020-11-25</td>\n",
       "      <td>34</td>\n",
       "    </tr>\n",
       "    <tr>\n",
       "      <th>9</th>\n",
       "      <td>1pzvBxYgT6OVwJLtHkrdQK</td>\n",
       "      <td>folklore (deluxe version)</td>\n",
       "      <td>2020-08-18</td>\n",
       "      <td>17</td>\n",
       "    </tr>\n",
       "    <tr>\n",
       "      <th>10</th>\n",
       "      <td>2fenSS68JI1h4Fo296JfGr</td>\n",
       "      <td>folklore</td>\n",
       "      <td>2020-07-24</td>\n",
       "      <td>16</td>\n",
       "    </tr>\n",
       "    <tr>\n",
       "      <th>11</th>\n",
       "      <td>1NAmidJlEaVgA3MpcPFYGq</td>\n",
       "      <td>Lover</td>\n",
       "      <td>2019-08-23</td>\n",
       "      <td>18</td>\n",
       "    </tr>\n",
       "    <tr>\n",
       "      <th>12</th>\n",
       "      <td>6DEjYFkNZh67HP7R9PSZvv</td>\n",
       "      <td>reputation</td>\n",
       "      <td>2017-11-10</td>\n",
       "      <td>15</td>\n",
       "    </tr>\n",
       "    <tr>\n",
       "      <th>13</th>\n",
       "      <td>1MPAXuTVL2Ej5x0JHiSPq8</td>\n",
       "      <td>reputation Stadium Tour Surprise Song Playlist</td>\n",
       "      <td>2017-11-09</td>\n",
       "      <td>46</td>\n",
       "    </tr>\n",
       "    <tr>\n",
       "      <th>14</th>\n",
       "      <td>1yGbNOtRIgdIiGHOEBaZWf</td>\n",
       "      <td>1989 (Deluxe)</td>\n",
       "      <td>2014-01-01</td>\n",
       "      <td>19</td>\n",
       "    </tr>\n",
       "    <tr>\n",
       "      <th>15</th>\n",
       "      <td>5fy0X0JmZRZnVa2UEicIOl</td>\n",
       "      <td>1989</td>\n",
       "      <td>2014-01-01</td>\n",
       "      <td>13</td>\n",
       "    </tr>\n",
       "    <tr>\n",
       "      <th>16</th>\n",
       "      <td>1KVKqWeRuXsJDLTW0VuD29</td>\n",
       "      <td>Red (Deluxe Edition)</td>\n",
       "      <td>2012-10-22</td>\n",
       "      <td>22</td>\n",
       "    </tr>\n",
       "    <tr>\n",
       "      <th>17</th>\n",
       "      <td>6fyR4wBPwLHKcRtxgd4sGh</td>\n",
       "      <td>Speak Now World Tour Live</td>\n",
       "      <td>2010-10-25</td>\n",
       "      <td>16</td>\n",
       "    </tr>\n",
       "    <tr>\n",
       "      <th>18</th>\n",
       "      <td>6Ar2o9KCqcyYF9J0aQP3au</td>\n",
       "      <td>Speak Now</td>\n",
       "      <td>2010-10-25</td>\n",
       "      <td>14</td>\n",
       "    </tr>\n",
       "    <tr>\n",
       "      <th>19</th>\n",
       "      <td>6S6JQWzUrJVcJLK4fi74Fw</td>\n",
       "      <td>Speak Now (Deluxe Package)</td>\n",
       "      <td>2010-01-01</td>\n",
       "      <td>22</td>\n",
       "    </tr>\n",
       "    <tr>\n",
       "      <th>20</th>\n",
       "      <td>2gP2LMVcIFgVczSJqn340t</td>\n",
       "      <td>Fearless (Platinum Edition)</td>\n",
       "      <td>2008-11-11</td>\n",
       "      <td>19</td>\n",
       "    </tr>\n",
       "    <tr>\n",
       "      <th>21</th>\n",
       "      <td>08CWGiv27MVQhYpuTtvx83</td>\n",
       "      <td>Fearless (International Version)</td>\n",
       "      <td>2008-11-11</td>\n",
       "      <td>16</td>\n",
       "    </tr>\n",
       "    <tr>\n",
       "      <th>22</th>\n",
       "      <td>1ycoesYxIFymXWebfmz828</td>\n",
       "      <td>Live From Clear Channel Stripped 2008</td>\n",
       "      <td>2008-06-28</td>\n",
       "      <td>8</td>\n",
       "    </tr>\n",
       "    <tr>\n",
       "      <th>23</th>\n",
       "      <td>5eyZZoQEFQWRHkV2xgAeBw</td>\n",
       "      <td>Taylor Swift</td>\n",
       "      <td>2006-10-24</td>\n",
       "      <td>15</td>\n",
       "    </tr>\n",
       "  </tbody>\n",
       "</table>\n",
       "</div>"
      ],
      "text/plain": [
       "                  album_id                                               name  \\\n",
       "0   5AEDGbliTTfjOB8TSm1sxt                       Speak Now (Taylor's Version)   \n",
       "1   1fnJ7k0bllNfL1kVdNVW1A                   Midnights (The Til Dawn Edition)   \n",
       "2   3lS1y25WAhcqJDATJK70Mq                            Midnights (3am Edition)   \n",
       "3   151w1FgRZfnKZA9FEcg9Z3                                          Midnights   \n",
       "4   6kZ42qRrzov54LcAk4onW9                             Red (Taylor's Version)   \n",
       "5   4hDok0OAJd57SGIT8xuWJH                        Fearless (Taylor's Version)   \n",
       "6   6AORtDjduMM3bupSWzbTSG                          evermore (deluxe version)   \n",
       "7   2Xoteh7uEpea4TohMxjtaq                                           evermore   \n",
       "8   0PZ7lAru5FDFHuirTkWe9Z  folklore: the long pond studio sessions (from ...   \n",
       "9   1pzvBxYgT6OVwJLtHkrdQK                          folklore (deluxe version)   \n",
       "10  2fenSS68JI1h4Fo296JfGr                                           folklore   \n",
       "11  1NAmidJlEaVgA3MpcPFYGq                                              Lover   \n",
       "12  6DEjYFkNZh67HP7R9PSZvv                                         reputation   \n",
       "13  1MPAXuTVL2Ej5x0JHiSPq8     reputation Stadium Tour Surprise Song Playlist   \n",
       "14  1yGbNOtRIgdIiGHOEBaZWf                                      1989 (Deluxe)   \n",
       "15  5fy0X0JmZRZnVa2UEicIOl                                               1989   \n",
       "16  1KVKqWeRuXsJDLTW0VuD29                               Red (Deluxe Edition)   \n",
       "17  6fyR4wBPwLHKcRtxgd4sGh                          Speak Now World Tour Live   \n",
       "18  6Ar2o9KCqcyYF9J0aQP3au                                          Speak Now   \n",
       "19  6S6JQWzUrJVcJLK4fi74Fw                         Speak Now (Deluxe Package)   \n",
       "20  2gP2LMVcIFgVczSJqn340t                        Fearless (Platinum Edition)   \n",
       "21  08CWGiv27MVQhYpuTtvx83                   Fearless (International Version)   \n",
       "22  1ycoesYxIFymXWebfmz828              Live From Clear Channel Stripped 2008   \n",
       "23  5eyZZoQEFQWRHkV2xgAeBw                                       Taylor Swift   \n",
       "\n",
       "      released  total_tracks  \n",
       "0   2023-07-07            22  \n",
       "1   2023-05-26            23  \n",
       "2   2022-10-22            20  \n",
       "3   2022-10-21            13  \n",
       "4   2021-11-12            30  \n",
       "5   2021-04-09            26  \n",
       "6   2021-01-07            17  \n",
       "7   2020-12-11            15  \n",
       "8   2020-11-25            34  \n",
       "9   2020-08-18            17  \n",
       "10  2020-07-24            16  \n",
       "11  2019-08-23            18  \n",
       "12  2017-11-10            15  \n",
       "13  2017-11-09            46  \n",
       "14  2014-01-01            19  \n",
       "15  2014-01-01            13  \n",
       "16  2012-10-22            22  \n",
       "17  2010-10-25            16  \n",
       "18  2010-10-25            14  \n",
       "19  2010-01-01            22  \n",
       "20  2008-11-11            19  \n",
       "21  2008-11-11            16  \n",
       "22  2008-06-28             8  \n",
       "23  2006-10-24            15  "
      ]
     },
     "execution_count": 169,
     "metadata": {},
     "output_type": "execute_result"
    }
   ],
   "source": [
    "get_artist_albums(artist_id=artist_id)"
   ]
  },
  {
   "cell_type": "code",
   "execution_count": 150,
   "id": "a7831c8a",
   "metadata": {},
   "outputs": [],
   "source": [
    "# Get artist's top 10 tracks\n",
    "def get_artist_tracks(artist_id):\n",
    "    artist_name = sp.artist(artist_id=artist_id)['name']\n",
    "    artist_top_tracks = sp.artist_top_tracks(artist_id=artist_id)\n",
    "    \n",
    "    top_tracks = []\n",
    "    for i in range(10):\n",
    "        track = artist_top_tracks['tracks'][i]\n",
    "        duration = track['duration_ms']\n",
    "        track_id = track['id']\n",
    "        track_name = track['name']\n",
    "        popularity = track['popularity']\n",
    "        album = track['album']['name']\n",
    "\n",
    "        track_info = {'track_id': track_id,\n",
    "                      'name': track_name,\n",
    "                      'duration(ms)': duration,\n",
    "                      'album': album,\n",
    "                      'popularity_score': popularity}\n",
    "        top_tracks.append(track_info)\n",
    "\n",
    "    print(f\"Top 10 tracks from {artist_name}\")\n",
    "    tracks_df = pd.DataFrame(top_tracks)\n",
    "    return tracks_df"
   ]
  },
  {
   "cell_type": "code",
   "execution_count": 151,
   "id": "f5b2b149",
   "metadata": {},
   "outputs": [
    {
     "name": "stdout",
     "output_type": "stream",
     "text": [
      "Top 10 tracks from Taylor Swift\n"
     ]
    },
    {
     "data": {
      "text/html": [
       "<div>\n",
       "<style scoped>\n",
       "    .dataframe tbody tr th:only-of-type {\n",
       "        vertical-align: middle;\n",
       "    }\n",
       "\n",
       "    .dataframe tbody tr th {\n",
       "        vertical-align: top;\n",
       "    }\n",
       "\n",
       "    .dataframe thead th {\n",
       "        text-align: right;\n",
       "    }\n",
       "</style>\n",
       "<table border=\"1\" class=\"dataframe\">\n",
       "  <thead>\n",
       "    <tr style=\"text-align: right;\">\n",
       "      <th></th>\n",
       "      <th>track_id</th>\n",
       "      <th>name</th>\n",
       "      <th>duration(ms)</th>\n",
       "      <th>album</th>\n",
       "      <th>popularity_score</th>\n",
       "    </tr>\n",
       "  </thead>\n",
       "  <tbody>\n",
       "    <tr>\n",
       "      <th>0</th>\n",
       "      <td>1BxfuPKGuaTgP7aM0Bbdwr</td>\n",
       "      <td>Cruel Summer</td>\n",
       "      <td>178426</td>\n",
       "      <td>Lover</td>\n",
       "      <td>100</td>\n",
       "    </tr>\n",
       "    <tr>\n",
       "      <th>1</th>\n",
       "      <td>0V3wPSX9ygBnCm8psDIegu</td>\n",
       "      <td>Anti-Hero</td>\n",
       "      <td>200690</td>\n",
       "      <td>Midnights</td>\n",
       "      <td>93</td>\n",
       "    </tr>\n",
       "    <tr>\n",
       "      <th>2</th>\n",
       "      <td>1p80LdxRV74UKvL8gnD7ky</td>\n",
       "      <td>Blank Space</td>\n",
       "      <td>231826</td>\n",
       "      <td>1989</td>\n",
       "      <td>83</td>\n",
       "    </tr>\n",
       "    <tr>\n",
       "      <th>3</th>\n",
       "      <td>4lIxdJw6W3Fg4vUIYCB0S5</td>\n",
       "      <td>Style</td>\n",
       "      <td>231000</td>\n",
       "      <td>1989</td>\n",
       "      <td>83</td>\n",
       "    </tr>\n",
       "    <tr>\n",
       "      <th>4</th>\n",
       "      <td>3hUxzQpSfdDqwM3ZTFQY0K</td>\n",
       "      <td>august</td>\n",
       "      <td>261922</td>\n",
       "      <td>folklore</td>\n",
       "      <td>93</td>\n",
       "    </tr>\n",
       "    <tr>\n",
       "      <th>5</th>\n",
       "      <td>4R2kfaDFhslZEMJqAFNpdd</td>\n",
       "      <td>cardigan</td>\n",
       "      <td>239560</td>\n",
       "      <td>folklore</td>\n",
       "      <td>91</td>\n",
       "    </tr>\n",
       "    <tr>\n",
       "      <th>6</th>\n",
       "      <td>7KokYm8cMIXCsGVmUvKtqf</td>\n",
       "      <td>Karma</td>\n",
       "      <td>204852</td>\n",
       "      <td>Midnights</td>\n",
       "      <td>90</td>\n",
       "    </tr>\n",
       "    <tr>\n",
       "      <th>7</th>\n",
       "      <td>1R0a2iXumgCiFb7HEZ7gUE</td>\n",
       "      <td>Don’t Blame Me</td>\n",
       "      <td>236413</td>\n",
       "      <td>reputation</td>\n",
       "      <td>91</td>\n",
       "    </tr>\n",
       "    <tr>\n",
       "      <th>8</th>\n",
       "      <td>1dGr1c8CrMLDpV6mPbImSI</td>\n",
       "      <td>Lover</td>\n",
       "      <td>221306</td>\n",
       "      <td>Lover</td>\n",
       "      <td>91</td>\n",
       "    </tr>\n",
       "    <tr>\n",
       "      <th>9</th>\n",
       "      <td>5kHMfzgLZP95O9NBy0ku4v</td>\n",
       "      <td>I Can See You (Taylor’s Version) (From The Vault)</td>\n",
       "      <td>273186</td>\n",
       "      <td>Speak Now (Taylor's Version)</td>\n",
       "      <td>90</td>\n",
       "    </tr>\n",
       "  </tbody>\n",
       "</table>\n",
       "</div>"
      ],
      "text/plain": [
       "                 track_id                                               name  \\\n",
       "0  1BxfuPKGuaTgP7aM0Bbdwr                                       Cruel Summer   \n",
       "1  0V3wPSX9ygBnCm8psDIegu                                          Anti-Hero   \n",
       "2  1p80LdxRV74UKvL8gnD7ky                                        Blank Space   \n",
       "3  4lIxdJw6W3Fg4vUIYCB0S5                                              Style   \n",
       "4  3hUxzQpSfdDqwM3ZTFQY0K                                             august   \n",
       "5  4R2kfaDFhslZEMJqAFNpdd                                           cardigan   \n",
       "6  7KokYm8cMIXCsGVmUvKtqf                                              Karma   \n",
       "7  1R0a2iXumgCiFb7HEZ7gUE                                     Don’t Blame Me   \n",
       "8  1dGr1c8CrMLDpV6mPbImSI                                              Lover   \n",
       "9  5kHMfzgLZP95O9NBy0ku4v  I Can See You (Taylor’s Version) (From The Vault)   \n",
       "\n",
       "   duration(ms)                         album  popularity_score  \n",
       "0        178426                         Lover               100  \n",
       "1        200690                     Midnights                93  \n",
       "2        231826                          1989                83  \n",
       "3        231000                          1989                83  \n",
       "4        261922                      folklore                93  \n",
       "5        239560                      folklore                91  \n",
       "6        204852                     Midnights                90  \n",
       "7        236413                    reputation                91  \n",
       "8        221306                         Lover                91  \n",
       "9        273186  Speak Now (Taylor's Version)                90  "
      ]
     },
     "execution_count": 151,
     "metadata": {},
     "output_type": "execute_result"
    }
   ],
   "source": [
    "# Extract Taylor Swift's top 10 tracks\n",
    "get_artist_tracks(artist_id=artist_id)"
   ]
  },
  {
   "cell_type": "code",
   "execution_count": 187,
   "id": "f3cb262f",
   "metadata": {},
   "outputs": [
    {
     "data": {
      "text/plain": [
       "[{'danceability': 0.552,\n",
       "  'energy': 0.702,\n",
       "  'key': 9,\n",
       "  'loudness': -5.707,\n",
       "  'mode': 1,\n",
       "  'speechiness': 0.157,\n",
       "  'acousticness': 0.117,\n",
       "  'instrumentalness': 2.06e-05,\n",
       "  'liveness': 0.105,\n",
       "  'valence': 0.564,\n",
       "  'tempo': 169.994,\n",
       "  'type': 'audio_features',\n",
       "  'id': '1BxfuPKGuaTgP7aM0Bbdwr',\n",
       "  'uri': 'spotify:track:1BxfuPKGuaTgP7aM0Bbdwr',\n",
       "  'track_href': 'https://api.spotify.com/v1/tracks/1BxfuPKGuaTgP7aM0Bbdwr',\n",
       "  'analysis_url': 'https://api.spotify.com/v1/audio-analysis/1BxfuPKGuaTgP7aM0Bbdwr',\n",
       "  'duration_ms': 178427,\n",
       "  'time_signature': 4}]"
      ]
     },
     "execution_count": 187,
     "metadata": {},
     "output_type": "execute_result"
    }
   ],
   "source": [
    "audio=sp.audio_features(\"1BxfuPKGuaTgP7aM0Bbdwr\")\n",
    "audio"
   ]
  },
  {
   "cell_type": "code",
   "execution_count": null,
   "id": "bf9ffb9e",
   "metadata": {},
   "outputs": [],
   "source": []
  }
 ],
 "metadata": {
  "kernelspec": {
   "display_name": "Python 3 (ipykernel)",
   "language": "python",
   "name": "python3"
  },
  "language_info": {
   "codemirror_mode": {
    "name": "ipython",
    "version": 3
   },
   "file_extension": ".py",
   "mimetype": "text/x-python",
   "name": "python",
   "nbconvert_exporter": "python",
   "pygments_lexer": "ipython3",
   "version": "3.9.13"
  }
 },
 "nbformat": 4,
 "nbformat_minor": 5
}
