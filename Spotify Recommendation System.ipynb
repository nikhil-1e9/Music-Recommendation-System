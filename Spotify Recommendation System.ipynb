{
 "cells": [
  {
   "cell_type": "markdown",
   "id": "4e9f8be6",
   "metadata": {},
   "source": [
    "# Music Recommendation System using Spotify API"
   ]
  },
  {
   "cell_type": "markdown",
   "id": "3f467cae",
   "metadata": {},
   "source": [
    "![](https://www.protocol.com/media-library/spotify-app-with-headphones-on.png?id=29171621&width=1000&height=750&quality=85&coordinates=0%2C0%2C0%2C0)"
   ]
  },
  {
   "cell_type": "markdown",
   "id": "4c78e93e",
   "metadata": {},
   "source": [
    "## Recommendation systems\n",
    "**Recommendation systems** are algorithms and techniques designed to provide personalized suggestions or recommendations to users. These systems analyze user data and item attributes to generate relevant and tailored recommendations. Recommendation systems are widely used in various applications such as e-commerce (product recommendations), streaming services (movie/music recommendations), news websites (article recommendations), and more to enhance user experiences and drive engagement. \n",
    "\n",
    "In this notebook, I will be demonstrating one such application of Recommendation systems by building a Music Recommendation System using the Spotify API. The music recommendation system will assist users in discovering new and relevant musical content based on their preferences and listening behaviour."
   ]
  },
  {
   "cell_type": "markdown",
   "id": "9057704d",
   "metadata": {},
   "source": [
    "### Table of Contents\n",
    "1. Introduction\n",
    "2. Spotify API"
   ]
  },
  {
   "cell_type": "markdown",
   "id": "6c01cec8",
   "metadata": {},
   "source": [
    "## Spotify API\n",
    "**Spotify API** (Application Programming Interface) is a set of web services and tools provided by Spotify that allows developers to interact with the Spotify platform and access various music-related data and functionalities. Developers can use the Spotify API to integrate Spotify's vast music catalog, user playlists, and user-related data into their own applications, websites, or services.\n",
    "\n",
    "I will be using the Spotify API for requesting and collecting real-time music data from Spotify. For accessing the API you first have to sign up for a developer account on Spotify. As I have already done this I am skipping this step. For more information you can check out the [Spotify API documentation](https://developer.spotify.com/documentation/web-api)."
   ]
  },
  {
   "cell_type": "code",
   "execution_count": null,
   "id": "3b3694ac",
   "metadata": {},
   "outputs": [],
   "source": []
  },
  {
   "cell_type": "markdown",
   "id": "f162c29f",
   "metadata": {},
   "source": [
    "To get started with building a Music Recommendation System, we first need to have an access token. The access token serves as a temporary authorization credential, allowing the code to make authenticated requests to the Spotify API on behalf of the application. The access token can be requested in the following way"
   ]
  },
  {
   "cell_type": "code",
   "execution_count": 5,
   "id": "76f93bbb",
   "metadata": {},
   "outputs": [
    {
     "data": {
      "text/plain": [
       "'Y2U0NTM1ZjNlMmI1NDcyYzgxZGFkYzExMjA3ZTNkMTI6NTc5OWRjMTk1N2ExNDdmNDg1ZmUyOTQwYjI4Yzc0MTQ='"
      ]
     },
     "execution_count": 5,
     "metadata": {},
     "output_type": "execute_result"
    }
   ],
   "source": [
    "client_creds_enc.decode()"
   ]
  },
  {
   "cell_type": "code",
   "execution_count": 7,
   "id": "8bb66a0a",
   "metadata": {},
   "outputs": [
    {
     "data": {
      "text/plain": [
       "b'Y2U0NTM1ZjNlMmI1NDcyYzgxZGFkYzExMjA3ZTNkMTI6NTc5OWRjMTk1N2ExNDdmNDg1ZmUyOTQwYjI4Yzc0MTQ='"
      ]
     },
     "execution_count": 7,
     "metadata": {},
     "output_type": "execute_result"
    }
   ],
   "source": [
    "client_creds_enc"
   ]
  },
  {
   "cell_type": "code",
   "execution_count": 1,
   "id": "1a614b0d",
   "metadata": {},
   "outputs": [
    {
     "name": "stdout",
     "output_type": "stream",
     "text": [
      "Access token obtained successfully.\n"
     ]
    }
   ],
   "source": [
    "import requests\n",
    "import base64\n",
    "\n",
    "# Replace with your Client ID and Client Secret\n",
    "CLIENT_ID = 'ce4535f3e2b5472c81dadc11207e3d12'\n",
    "CLIENT_SECRET = '5799dc1957a147f485fe2940b28c7414'\n",
    "\n",
    "# Encode the client ID and client secret to base64\n",
    "client_creds = f\"{CLIENT_ID}:{CLIENT_SECRET}\"\n",
    "client_creds_enc = base64.b64encode(client_creds.encode())\n",
    "\n",
    "# Request the access token\n",
    "token_url = \"https://accounts.spotify.com/api/token\"\n",
    "headers = {\n",
    "    'Authorization': f'Basic {client_creds_enc.decode()}'\n",
    "}\n",
    "data = {\n",
    "    'grant_type': 'client_credentials'\n",
    "}\n",
    "response = requests.post(token_url, data=data, headers=headers)\n",
    "\n",
    "# Check if access token was obtained or not\n",
    "if response.status_code == 200:\n",
    "    access_token = response.json()['access_token']\n",
    "    print(\"Access token obtained successfully.\")\n",
    "else:\n",
    "    print(\"Error obtaining access token.\")\n",
    "    exit()"
   ]
  },
  {
   "cell_type": "markdown",
   "id": "c8f3d4c5",
   "metadata": {},
   "source": [
    "With the access token obtained, we can now make authorized requests to Spotify and retrieve music data, such as tracks, albums, artists, and user information, which is fundamental for our Music Recommendation System."
   ]
  },
  {
   "cell_type": "code",
   "execution_count": 8,
   "id": "e9447a06",
   "metadata": {},
   "outputs": [
    {
     "name": "stdout",
     "output_type": "stream",
     "text": [
      "Collecting spotipy\n",
      "  Downloading spotipy-2.23.0-py3-none-any.whl (29 kB)\n",
      "Collecting redis>=3.5.3 (from spotipy)\n",
      "  Downloading redis-5.0.0-py3-none-any.whl (250 kB)\n",
      "                                              0.0/250.1 kB ? eta -:--:--\n",
      "     ----                                    30.7/250.1 kB 1.3 MB/s eta 0:00:01\n",
      "     --------------                          92.2/250.1 kB 1.3 MB/s eta 0:00:01\n",
      "     ---------------------                  143.4/250.1 kB 1.2 MB/s eta 0:00:01\n",
      "     -----------------------------          194.6/250.1 kB 1.2 MB/s eta 0:00:01\n",
      "     -------------------------------------- 250.1/250.1 kB 1.2 MB/s eta 0:00:00\n",
      "Requirement already satisfied: requests>=2.25.0 in c:\\users\\relat\\anaconda3\\lib\\site-packages (from spotipy) (2.29.0)\n",
      "Requirement already satisfied: six>=1.15.0 in c:\\users\\relat\\anaconda3\\lib\\site-packages (from spotipy) (1.16.0)\n",
      "Requirement already satisfied: urllib3>=1.26.0 in c:\\users\\relat\\anaconda3\\lib\\site-packages (from spotipy) (1.26.16)\n",
      "Requirement already satisfied: async-timeout>=4.0.2 in c:\\users\\relat\\anaconda3\\lib\\site-packages (from redis>=3.5.3->spotipy) (4.0.2)\n",
      "Requirement already satisfied: charset-normalizer<4,>=2 in c:\\users\\relat\\anaconda3\\lib\\site-packages (from requests>=2.25.0->spotipy) (2.0.4)\n",
      "Requirement already satisfied: idna<4,>=2.5 in c:\\users\\relat\\anaconda3\\lib\\site-packages (from requests>=2.25.0->spotipy) (2.10)\n",
      "Requirement already satisfied: certifi>=2017.4.17 in c:\\users\\relat\\anaconda3\\lib\\site-packages (from requests>=2.25.0->spotipy) (2023.5.7)\n",
      "Installing collected packages: redis, spotipy\n",
      "Successfully installed redis-5.0.0 spotipy-2.23.0\n"
     ]
    }
   ],
   "source": [
    "!pip install spotipy"
   ]
  },
  {
   "cell_type": "code",
   "execution_count": null,
   "id": "cf34e7fb",
   "metadata": {},
   "outputs": [],
   "source": []
  },
  {
   "cell_type": "code",
   "execution_count": null,
   "id": "594cfaa3",
   "metadata": {},
   "outputs": [],
   "source": []
  },
  {
   "cell_type": "code",
   "execution_count": null,
   "id": "c5406f3f",
   "metadata": {},
   "outputs": [],
   "source": []
  }
 ],
 "metadata": {
  "kernelspec": {
   "display_name": "Python 3 (ipykernel)",
   "language": "python",
   "name": "python3"
  },
  "language_info": {
   "codemirror_mode": {
    "name": "ipython",
    "version": 3
   },
   "file_extension": ".py",
   "mimetype": "text/x-python",
   "name": "python",
   "nbconvert_exporter": "python",
   "pygments_lexer": "ipython3",
   "version": "3.9.13"
  }
 },
 "nbformat": 4,
 "nbformat_minor": 5
}
